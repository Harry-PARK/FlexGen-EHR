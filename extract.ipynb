{
 "cells": [
  {
   "cell_type": "code",
   "execution_count": 1,
   "metadata": {},
   "outputs": [],
   "source": [
    "import pickle\n",
    "import pandas as pd\n",
    "import numpy as np\n",
    "\n"
   ]
  },
  {
   "cell_type": "code",
   "execution_count": null,
   "metadata": {},
   "outputs": [],
   "source": [
    "# define params\n",
    "MAX_DURATION = 24\n",
    "ID_COL = 'icustay_id'\n",
    "\n",
    "# load dataset\n",
    "# with open('output/df_interv_merged.pkl', 'rb') as fp:\n",
    "#     interv = pickle.load(fp)\n",
    "# interv = interv.set_index(['icustay_id', 'hours_in'])\n",
    "\n",
    "DATA_FILEPATH = 'all_hourly_data.h5'\n",
    "vital = pd.read_hdf(DATA_FILEPATH, 'vitals_labs')\n",
    "\n",
    "idx = pd.IndexSlice\n",
    "vital = vital.loc[:, idx[:, 'mean']]\n",
    "vital = vital.droplevel(1, axis=1)\n",
    "vital = vital.reset_index()\n",
    "vital = vital.drop(['subject_id', 'hadm_id'], axis=1)\n",
    "vital = vital.set_index(['icustay_id', 'hours_in'])"
   ]
  },
  {
   "cell_type": "code",
   "execution_count": null,
   "metadata": {},
   "outputs": [],
   "source": []
  }
 ],
 "metadata": {
  "kernelspec": {
   "display_name": "cuda116",
   "language": "python",
   "name": "python3"
  },
  "language_info": {
   "codemirror_mode": {
    "name": "ipython",
    "version": 3
   },
   "file_extension": ".py",
   "mimetype": "text/x-python",
   "name": "python",
   "nbconvert_exporter": "python",
   "pygments_lexer": "ipython3",
   "version": "3.8.5"
  },
  "orig_nbformat": 4
 },
 "nbformat": 4,
 "nbformat_minor": 2
}
