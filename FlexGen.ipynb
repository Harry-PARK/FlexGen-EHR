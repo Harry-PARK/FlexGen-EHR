{
 "cells": [
  {
   "cell_type": "code",
   "id": "initial_id",
   "metadata": {
    "collapsed": true,
    "ExecuteTime": {
     "end_time": "2024-09-28T05:36:11.105473Z",
     "start_time": "2024-09-28T05:36:11.093959Z"
    }
   },
   "source": "pwd",
   "outputs": [
    {
     "data": {
      "text/plain": [
       "'/home/jovyan/private/PycharmProjects/FlexGen-EHR-master/FlexGen-master'"
      ]
     },
     "execution_count": 1,
     "metadata": {},
     "output_type": "execute_result"
    }
   ],
   "execution_count": 1
  },
  {
   "metadata": {
    "ExecuteTime": {
     "end_time": "2024-09-28T05:36:15.504270Z",
     "start_time": "2024-09-28T05:36:11.117927Z"
    }
   },
   "cell_type": "code",
   "source": [
    "from models.cvae import VariationalAutoencoder, vae_loss_fn\n",
    "from models.ddpm import DDPM, ContextUnet\n",
    "from models.flexgen import flexgen\n",
    "import torch\n",
    "import numpy as np\n",
    "from torch.utils.data import DataLoader, Dataset\n",
    "import matplotlib.pyplot as plt\n",
    "import json\n",
    "import pandas as pd\n",
    "# fix random seeds for reproducibility\n",
    "SEED = 123\n",
    "torch.manual_seed(SEED)\n",
    "torch.backends.cudnn.deterministic = True\n",
    "torch.backends.cudnn.benchmark = False\n",
    "np.random.seed(SEED)\n",
    "\n",
    "class MIMICDATASET(Dataset):\n",
    "    def __init__(self, x_t,x_s, ys, yt, train=None, transform=None):\n",
    "        # Transform\n",
    "        self.transform = transform\n",
    "        self.train = train\n",
    "        self.xt = x_t\n",
    "        self.xs = x_s\n",
    "        self.ys = ys\n",
    "        self.yt = yt\n",
    "        m = x_s.shape[0]\n",
    "        num_miss = 500\n",
    "        self.miss_t = np.random.permutation(np.arange(m))[0: num_miss]\n",
    "        self.miss_s = np.random.permutation(np.arange(m))[0: num_miss]\n",
    "\n",
    "    def return_data(self):\n",
    "        return self.xt, self.xs, self.ys, self.yt\n",
    "\n",
    "    def __len__(self):\n",
    "        return len(self.xt)\n",
    "\n",
    "\n",
    "    def __getitem__(self, idx):\n",
    "        # sample 처리\n",
    "        if idx in self.miss_t:\n",
    "            # sample과 동일한 크기의 영 텐서 생성\n",
    "            sample = torch.zeros_like(self.xt[0])\n",
    "        else:\n",
    "            sample = self.xt[idx]\n",
    "\n",
    "        # stat 처리\n",
    "        if idx in self.miss_s:\n",
    "            # stat과 동일한 크기의 영 텐서 생성\n",
    "            stat = torch.zeros_like(self.xs[0])\n",
    "        else:\n",
    "            stat = self.xs[idx]\n",
    "\n",
    "        sample_ys = self.ys[idx]\n",
    "        sample_yt = self.yt[idx]\n",
    "\n",
    "        # 레이블이 텐서인지 확인하고, 아니면 텐서로 변환\n",
    "        if not isinstance(sample_ys, torch.Tensor):\n",
    "            sample_ys = torch.tensor(sample_ys, dtype=torch.float32)\n",
    "        if not isinstance(sample_yt, torch.Tensor):\n",
    "            sample_yt = torch.tensor(sample_yt, dtype=torch.float32)\n",
    "\n",
    "        return sample, stat, sample_ys, sample_yt"
   ],
   "id": "33f6b0975ada42ec",
   "outputs": [],
   "execution_count": 2
  },
  {
   "metadata": {
    "ExecuteTime": {
     "end_time": "2024-09-28T05:36:26.102307Z",
     "start_time": "2024-09-28T05:36:15.696052Z"
    }
   },
   "cell_type": "code",
   "source": [
    "batch_size =  512\n",
    "device = torch.device(\"cuda\")\n",
    "tasks = [\n",
    "    'mortality_48h',\n",
    "    'ARF_4h', \n",
    "    'ARF_12h',\n",
    "    'Shock_4h',\n",
    "    'Shock_12h',\n",
    "]\n",
    "task = tasks[0]\n",
    "s = np.load('FIDDLE_mimic3/features/{}/s.npz'.format(task))\n",
    "X = np.load('FIDDLE_mimic3/features/{}/X.npz'.format(task))\n",
    "s_feature_names = json.load(open('FIDDLE_mimic3/features/{}/s.feature_names.json'.format(task), 'r'))\n",
    "X_feature_names = json.load(open('FIDDLE_mimic3/features/{}/X.feature_names.json'.format(task), 'r'))\n",
    "df_pop = pd.read_csv('FIDDLE_mimic3/population/{}.csv'.format(task))\n",
    "x_s = torch.sparse_coo_tensor(torch.tensor(s['coords']), torch.tensor(s['data'])).to_dense().to(torch.float32)\n",
    "x_t = torch.sparse_coo_tensor(torch.tensor(X['coords']), torch.tensor(X['data'])).to_dense().to(torch.float32)\n",
    "x_t = x_t.sum(dim=1).to(torch.float32)\n",
    "\n",
    "idx_t = np.random.permutation(np.arange(x_t.shape[0]))[0: int(0.8 * x_t.shape[0])]\n",
    "idx_s = np.random.permutation(np.arange(x_s.shape[0]))[0: int(0.8 * x_s.shape[0])]\n",
    "x_s = x_s[idx_s]\n",
    "x_t = x_t[idx_t]\n",
    "y = torch.tensor(df_pop[\"mortality_LABEL\"].values).to(torch.float32)\n",
    "ys = y[idx_s]\n",
    "yt = y[idx_t]\n",
    "dataset_train_object = MIMICDATASET(x_t, x_s, ys, yt, train=True, transform=False)\n",
    "train_loader = DataLoader(dataset_train_object, batch_size=batch_size, shuffle=True, num_workers=1, drop_last=False)"
   ],
   "id": "46a0dc077f7625df",
   "outputs": [],
   "execution_count": 3
  },
  {
   "metadata": {
    "ExecuteTime": {
     "end_time": "2024-09-27T11:26:07.003484Z",
     "start_time": "2024-09-27T11:26:06.474834Z"
    }
   },
   "cell_type": "code",
   "source": [
    "# 필요한 값만 언팩\n",
    "tmp_samples, sta_samples, _, _ = next(iter(train_loader))\n",
    "feature_dim_s = sta_samples.shape[1]\n",
    "feature_dim_t = tmp_samples.shape[1]\n",
    "\n",
    "svae = VariationalAutoencoder(feature_dim_s).to(device)\n",
    "tvae = VariationalAutoencoder(feature_dim_t).to(device)\n",
    "tvae = torch.load('saved_models/vae_tmp.pt')\n",
    "svae = torch.load('saved_models/vae_stat.pt')\n",
    "svae.eval()\n",
    "tvae.eval()\n",
    "n_epoch = 1\n",
    "n_T = 50 \n",
    "device = \"cuda\"\n",
    "n_classes = 2\n",
    "n_feat = 256  \n",
    "lrate = 1e-4\n",
    "save_model = True\n",
    "w = 0.1\n",
    "ddpm = DDPM(nn_model=ContextUnet(in_channels=1, n_feat=n_feat, n_classes=2), betas=(1e-4, 0.02), n_T=n_T, device=device, drop_prob=0.1)\n",
    "ddpm.to(device)\n",
    "trainer = flexgen(tvae, svae, ddpm,train_loader,epochs=n_epoch, model_path='Synthetic_MIMIC/diff.pt')\n",
    "trainer.train_epoch()\n",
    "trainer.generate(5000, 0)"
   ],
   "id": "98f192831bc85246",
   "outputs": [
    {
     "name": "stderr",
     "output_type": "stream",
     "text": [
      "/tmp/ipykernel_89210/1879940627.py:8: FutureWarning: You are using `torch.load` with `weights_only=False` (the current default value), which uses the default pickle module implicitly. It is possible to construct malicious pickle data which will execute arbitrary code during unpickling (See https://github.com/pytorch/pytorch/blob/main/SECURITY.md#untrusted-models for more details). In a future release, the default value for `weights_only` will be flipped to `True`. This limits the functions that could be executed during unpickling. Arbitrary objects will no longer be allowed to be loaded via this mode unless they are explicitly allowlisted by the user via `torch.serialization.add_safe_globals`. We recommend you start setting `weights_only=True` for any use case where you don't have full control of the loaded file. Please open an issue on GitHub for any issues related to this experimental feature.\n",
      "  tvae = torch.load('saved_models/vae_tmp.pt')\n",
      "/tmp/ipykernel_89210/1879940627.py:9: FutureWarning: You are using `torch.load` with `weights_only=False` (the current default value), which uses the default pickle module implicitly. It is possible to construct malicious pickle data which will execute arbitrary code during unpickling (See https://github.com/pytorch/pytorch/blob/main/SECURITY.md#untrusted-models for more details). In a future release, the default value for `weights_only` will be flipped to `True`. This limits the functions that could be executed during unpickling. Arbitrary objects will no longer be allowed to be loaded via this mode unless they are explicitly allowlisted by the user via `torch.serialization.add_safe_globals`. We recommend you start setting `weights_only=True` for any use case where you don't have full control of the loaded file. Please open an issue on GitHub for any issues related to this experimental feature.\n",
      "  svae = torch.load('saved_models/vae_stat.pt')\n"
     ]
    },
    {
     "name": "stdout",
     "output_type": "stream",
     "text": [
      "epoch 0\n"
     ]
    },
    {
     "name": "stderr",
     "output_type": "stream",
     "text": [
      "  0%|          | 0/14 [00:00<?, ?it/s]\n"
     ]
    },
    {
     "ename": "ValueError",
     "evalue": "too many values to unpack (expected 3)",
     "output_type": "error",
     "traceback": [
      "\u001B[0;31m---------------------------------------------------------------------------\u001B[0m",
      "\u001B[0;31mValueError\u001B[0m                                Traceback (most recent call last)",
      "Cell \u001B[0;32mIn[41], line 23\u001B[0m\n\u001B[1;32m     21\u001B[0m ddpm\u001B[38;5;241m.\u001B[39mto(device)\n\u001B[1;32m     22\u001B[0m trainer \u001B[38;5;241m=\u001B[39m flexgen(tvae, svae, ddpm,train_loader,epochs\u001B[38;5;241m=\u001B[39mn_epoch, model_path\u001B[38;5;241m=\u001B[39m\u001B[38;5;124m'\u001B[39m\u001B[38;5;124mSynthetic_MIMIC/diff.pt\u001B[39m\u001B[38;5;124m'\u001B[39m)\n\u001B[0;32m---> 23\u001B[0m \u001B[43mtrainer\u001B[49m\u001B[38;5;241;43m.\u001B[39;49m\u001B[43mtrain_epoch\u001B[49m\u001B[43m(\u001B[49m\u001B[43m)\u001B[49m\n\u001B[1;32m     24\u001B[0m trainer\u001B[38;5;241m.\u001B[39mgenerate(\u001B[38;5;241m5000\u001B[39m, \u001B[38;5;241m0\u001B[39m)\n",
      "File \u001B[0;32m~/private/PycharmProjects/FlexGen-EHR-master/FlexGen-master/models/flexgen.py:43\u001B[0m, in \u001B[0;36mflexgen.train_epoch\u001B[0;34m(self)\u001B[0m\n\u001B[1;32m     40\u001B[0m \u001B[38;5;28mself\u001B[39m\u001B[38;5;241m.\u001B[39mdopt\u001B[38;5;241m.\u001B[39mparam_groups[\u001B[38;5;241m0\u001B[39m][\u001B[38;5;124m'\u001B[39m\u001B[38;5;124mlr\u001B[39m\u001B[38;5;124m'\u001B[39m] \u001B[38;5;241m=\u001B[39m \u001B[38;5;241m1e-4\u001B[39m\u001B[38;5;241m*\u001B[39m(\u001B[38;5;241m1\u001B[39m\u001B[38;5;241m-\u001B[39mep\u001B[38;5;241m/\u001B[39m\u001B[38;5;28mself\u001B[39m\u001B[38;5;241m.\u001B[39mn_epoch)\n\u001B[1;32m     42\u001B[0m pbar \u001B[38;5;241m=\u001B[39m tqdm(\u001B[38;5;28mself\u001B[39m\u001B[38;5;241m.\u001B[39mtrain)\n\u001B[0;32m---> 43\u001B[0m \u001B[38;5;28;01mfor\u001B[39;00m xt, xs, c \u001B[38;5;129;01min\u001B[39;00m pbar:\n\u001B[1;32m     44\u001B[0m     \u001B[38;5;28mself\u001B[39m\u001B[38;5;241m.\u001B[39mdopt\u001B[38;5;241m.\u001B[39mzero_grad()\n\u001B[1;32m     45\u001B[0m     xt \u001B[38;5;241m=\u001B[39m xt\u001B[38;5;241m.\u001B[39mto(device)\n",
      "\u001B[0;31mValueError\u001B[0m: too many values to unpack (expected 3)"
     ]
    }
   ],
   "execution_count": 41
  },
  {
   "metadata": {},
   "cell_type": "code",
   "outputs": [],
   "execution_count": null,
   "source": "",
   "id": "898dc030dcf93439"
  }
 ],
 "metadata": {
  "kernelspec": {
   "display_name": "Python 3 (ipykernel)",
   "language": "python",
   "name": "python3"
  },
  "language_info": {
   "codemirror_mode": {
    "name": "ipython",
    "version": 2
   },
   "file_extension": ".py",
   "mimetype": "text/x-python",
   "name": "python",
   "nbconvert_exporter": "python",
   "pygments_lexer": "ipython2",
   "version": "2.7.6"
  }
 },
 "nbformat": 4,
 "nbformat_minor": 5
}
