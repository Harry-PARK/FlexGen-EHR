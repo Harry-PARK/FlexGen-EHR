{
 "cells": [
  {
   "cell_type": "code",
   "execution_count": 1,
   "metadata": {},
   "outputs": [],
   "source": [
    "import sparse\n",
    "import json\n",
    "import pandas as pd"
   ]
  },
  {
   "cell_type": "code",
   "execution_count": 2,
   "metadata": {},
   "outputs": [],
   "source": [
    "tasks = [\n",
    "    'mortality_48h',\n",
    "    'ARF_4h', \n",
    "    'ARF_12h',\n",
    "    'Shock_4h',\n",
    "    'Shock_12h',\n",
    "]"
   ]
  },
  {
   "cell_type": "markdown",
   "metadata": {},
   "source": [
    "## MIMIC-III"
   ]
  },
  {
   "cell_type": "code",
   "execution_count": 3,
   "metadata": {},
   "outputs": [
    {
     "name": "stdout",
     "output_type": "stream",
     "text": [
      "======\n",
      "mortality_48h\n",
      "Labels shape:\t\t 8577\n",
      "Feature names shape:\t 96 7307\n",
      "Feature matrices shape:\t (8577, 96) (8577, 48, 7307)\n",
      "======\n",
      "ARF_4h\n",
      "Labels shape:\t\t 15873\n",
      "Feature names shape:\t 98 4045\n",
      "Feature matrices shape:\t (15873, 98) (15873, 4, 4045)\n",
      "======\n",
      "ARF_12h\n",
      "Labels shape:\t\t 14174\n",
      "Feature names shape:\t 96 4816\n",
      "Feature matrices shape:\t (14174, 96) (14174, 12, 4816)\n",
      "======\n",
      "Shock_4h\n",
      "Labels shape:\t\t 19342\n",
      "Feature names shape:\t 98 4522\n",
      "Feature matrices shape:\t (19342, 98) (19342, 4, 4522)\n",
      "======\n",
      "Shock_12h\n",
      "Labels shape:\t\t 17588\n",
      "Feature names shape:\t 97 5500\n",
      "Feature matrices shape:\t (17588, 97) (17588, 12, 5500)\n"
     ]
    }
   ],
   "source": [
    "for task in tasks:\n",
    "    s = sparse.load_npz('FIDDLE_mimic3/features/{}/s.npz'.format(task))\n",
    "    X = sparse.load_npz('FIDDLE_mimic3/features/{}/X.npz'.format(task))\n",
    "    s_feature_names = json.load(open('FIDDLE_mimic3/features/{}/s.feature_names.json'.format(task), 'r'))\n",
    "    X_feature_names = json.load(open('FIDDLE_mimic3/features/{}/X.feature_names.json'.format(task), 'r'))\n",
    "    df_pop = pd.read_csv('FIDDLE_mimic3/population/{}.csv'.format(task))\n",
    "    \n",
    "    print('======')\n",
    "    print(task)\n",
    "    print('Labels shape:\\t\\t', len(df_pop))\n",
    "    print('Feature names shape:\\t', len(s_feature_names), len(X_feature_names))\n",
    "    print('Feature matrices shape:\\t', s.shape, X.shape)"
   ]
  },
  {
   "cell_type": "markdown",
   "metadata": {},
   "source": [
    "## eICU"
   ]
  },
  {
   "cell_type": "code",
   "execution_count": 4,
   "metadata": {},
   "outputs": [
    {
     "name": "stdout",
     "output_type": "stream",
     "text": [
      "======\n",
      "mortality_48h\n",
      "Labels shape:\t\t 77066\n",
      "Feature names shape:\t 146 2382\n",
      "Feature matrices shape:\t (77066, 146) (77066, 48, 2382)\n",
      "======\n",
      "ARF_4h\n",
      "Labels shape:\t\t 138840\n",
      "Feature names shape:\t 717 5854\n",
      "Feature matrices shape:\t (138840, 717) (138840, 4, 5854)\n",
      "======\n",
      "ARF_12h\n",
      "Labels shape:\t\t 122619\n",
      "Feature names shape:\t 119 2713\n",
      "Feature matrices shape:\t (122619, 119) (122619, 12, 2713)\n",
      "======\n",
      "Shock_4h\n",
      "Labels shape:\t\t 164333\n",
      "Feature names shape:\t 770 6314\n",
      "Feature matrices shape:\t (164333, 770) (164333, 4, 6314)\n",
      "======\n",
      "Shock_12h\n",
      "Labels shape:\t\t 144725\n",
      "Feature names shape:\t 128 2946\n",
      "Feature matrices shape:\t (144725, 128) (144725, 12, 2946)\n"
     ]
    }
   ],
   "source": [
    "for task in tasks:\n",
    "    s = sparse.load_npz('FIDDLE_eicu/features/{}/s.npz'.format(task))\n",
    "    X = sparse.load_npz('FIDDLE_eicu/features/{}/X.npz'.format(task))\n",
    "    s_feature_names = json.load(open('FIDDLE_eicu/features/{}/s.feature_names.json'.format(task), 'r'))\n",
    "    X_feature_names = json.load(open('FIDDLE_eicu/features/{}/X.feature_names.json'.format(task), 'r'))\n",
    "    df_pop = pd.read_csv('FIDDLE_eicu/population/{}.csv'.format(task))\n",
    "    \n",
    "    print('======')\n",
    "    print(task)\n",
    "    print('Labels shape:\\t\\t', len(df_pop))\n",
    "    print('Feature names shape:\\t', len(s_feature_names), len(X_feature_names))\n",
    "    print('Feature matrices shape:\\t', s.shape, X.shape)"
   ]
  },
  {
   "cell_type": "code",
   "execution_count": null,
   "metadata": {},
   "outputs": [],
   "source": []
  }
 ],
 "metadata": {
  "kernelspec": {
   "display_name": "Python 3",
   "language": "python",
   "name": "python3"
  },
  "language_info": {
   "codemirror_mode": {
    "name": "ipython",
    "version": 3
   },
   "file_extension": ".py",
   "mimetype": "text/x-python",
   "name": "python",
   "nbconvert_exporter": "python",
   "pygments_lexer": "ipython3",
   "version": "3.8.5"
  }
 },
 "nbformat": 4,
 "nbformat_minor": 4
}
